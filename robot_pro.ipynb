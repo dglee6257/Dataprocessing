{
 "cells": [
  {
   "cell_type": "code",
   "execution_count": 1,
   "metadata": {},
   "outputs": [
    {
     "ename": "NameError",
     "evalue": "name 'py_serial' is not defined",
     "output_type": "error",
     "traceback": [
      "\u001b[1;31m---------------------------------------------------------------------------\u001b[0m",
      "\u001b[1;31mNameError\u001b[0m                                 Traceback (most recent call last)",
      "\u001b[1;32md:\\OneDrive\\수업자료\\2023-2\\데이터처리\\source_code\\Dataprocessing\\robot_pro.ipynb Cell 1\u001b[0m line \u001b[0;36m2\n\u001b[0;32m      <a href='vscode-notebook-cell:/d%3A/OneDrive/%EC%88%98%EC%97%85%EC%9E%90%EB%A3%8C/2023-2/%EB%8D%B0%EC%9D%B4%ED%84%B0%EC%B2%98%EB%A6%AC/source_code/Dataprocessing/robot_pro.ipynb#W0sZmlsZQ%3D%3D?line=0'>1</a>\u001b[0m \u001b[39mwhile\u001b[39;00m \u001b[39mTrue\u001b[39;00m:\n\u001b[1;32m----> <a href='vscode-notebook-cell:/d%3A/OneDrive/%EC%88%98%EC%97%85%EC%9E%90%EB%A3%8C/2023-2/%EB%8D%B0%EC%9D%B4%ED%84%B0%EC%B2%98%EB%A6%AC/source_code/Dataprocessing/robot_pro.ipynb#W0sZmlsZQ%3D%3D?line=1'>2</a>\u001b[0m     \u001b[39mwhile\u001b[39;00m \u001b[39mnot\u001b[39;00m py_serial\u001b[39m.\u001b[39mreadable():\n\u001b[0;32m      <a href='vscode-notebook-cell:/d%3A/OneDrive/%EC%88%98%EC%97%85%EC%9E%90%EB%A3%8C/2023-2/%EB%8D%B0%EC%9D%B4%ED%84%B0%EC%B2%98%EB%A6%AC/source_code/Dataprocessing/robot_pro.ipynb#W0sZmlsZQ%3D%3D?line=2'>3</a>\u001b[0m         time\u001b[39m.\u001b[39msleep(\u001b[39m0.1\u001b[39m)\n\u001b[0;32m      <a href='vscode-notebook-cell:/d%3A/OneDrive/%EC%88%98%EC%97%85%EC%9E%90%EB%A3%8C/2023-2/%EB%8D%B0%EC%9D%B4%ED%84%B0%EC%B2%98%EB%A6%AC/source_code/Dataprocessing/robot_pro.ipynb#W0sZmlsZQ%3D%3D?line=3'>4</a>\u001b[0m     response \u001b[39m=\u001b[39m py_serial\u001b[39m.\u001b[39mreadline()\n",
      "\u001b[1;31mNameError\u001b[0m: name 'py_serial' is not defined"
     ]
    }
   ],
   "source": [
    "while True:\n",
    "    while not py_serial.readable():\n",
    "        time.sleep(0.1)\n",
    "    response = py_serial.readline()\n",
    "    response = response[:len(response)-1].decode()\n",
    "    if response == 'e':\n",
    "        break\n",
    "    print('Withdrawal amount:', response)\n",
    "print('\\n')"
   ]
  }
 ],
 "metadata": {
  "kernelspec": {
   "display_name": "Probability",
   "language": "python",
   "name": "python3"
  },
  "language_info": {
   "codemirror_mode": {
    "name": "ipython",
    "version": 3
   },
   "file_extension": ".py",
   "mimetype": "text/x-python",
   "name": "python",
   "nbconvert_exporter": "python",
   "pygments_lexer": "ipython3",
   "version": "3.10.9"
  }
 },
 "nbformat": 4,
 "nbformat_minor": 2
}
